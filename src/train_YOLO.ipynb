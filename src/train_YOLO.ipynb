{
 "cells": [
  {
   "cell_type": "markdown",
   "metadata": {},
   "source": [
    "# YOLOv8 Fruit Detection Training on Colab\n",
    "\n",
    "This notebook trains YOLOv8 on the augmented fruit dataset.\n",
    "\n",
    "**Before running:**\n",
    "1. Upload your `yolo_dataset.zip` to Google Drive\n",
    "2. Runtime > Change runtime type > GPU "
   ]
  },
  {
   "cell_type": "markdown",
   "metadata": {},
   "source": [
    "## Install YOLOv8"
   ]
  },
  {
   "cell_type": "code",
   "execution_count": null,
   "metadata": {},
   "outputs": [],
   "source": [
    "!pip install ultralytics -q"
   ]
  },
  {
   "cell_type": "markdown",
   "metadata": {},
   "source": [
    "## Mount Google Drive"
   ]
  },
  {
   "cell_type": "code",
   "execution_count": null,
   "metadata": {},
   "outputs": [],
   "source": [
    "from google.colab import drive\n",
    "drive.mount('/content/drive')"
   ]
  },
  {
   "cell_type": "markdown",
   "metadata": {},
   "source": [
    "## Extract Dataset"
   ]
  },
  {
   "cell_type": "code",
   "execution_count": null,
   "metadata": {},
   "outputs": [],
   "source": [
    "!unzip -q /content/drive/MyDrive/yolo_dataset.zip -d /content/\n",
    "\n",
    "# Verify dataset structure\n",
    "!ls /content/yolo_dataset/"
   ]
  },
  {
   "cell_type": "markdown",
   "metadata": {},
   "source": [
    "## Update Dataset YAML Path"
   ]
  },
  {
   "cell_type": "code",
   "execution_count": null,
   "metadata": {},
   "outputs": [],
   "source": [
    "import yaml\n",
    "\n",
    "# Read existing config\n",
    "with open('/content/yolo_dataset/dataset.yaml', 'r') as f:\n",
    "    config = yaml.safe_load(f)\n",
    "\n",
    "# Update path to Colab location\n",
    "config['path'] = '/content/yolo_dataset'\n",
    "\n",
    "# Write updated config\n",
    "with open('/content/yolo_dataset/dataset.yaml', 'w') as f:\n",
    "    yaml.dump(config, f, sort_keys=False)\n",
    "\n",
    "print(f\"Dataset configured with {config['nc']} classes\")\n",
    "print(f\"Train images: {config['train']}\")\n",
    "print(f\"Val images: {config['val']}\")"
   ]
  },
  {
   "cell_type": "markdown",
   "metadata": {},
   "source": [
    "## GPU Validation"
   ]
  },
  {
   "cell_type": "code",
   "execution_count": null,
   "metadata": {},
   "outputs": [],
   "source": [
    "import torch\n",
    "\n",
    "device = 'cuda' if torch.cuda.is_available() else 'cpu'\n",
    "print(f\"Using device: {device}\")\n",
    "\n",
    "if device == 'cuda':\n",
    "    print(f\"GPU: {torch.cuda.get_device_name(0)}\")\n",
    "    print(f\"GPU Memory: {torch.cuda.get_device_properties(0).total_memory / 1e9:.2f} GB\")\n",
    "else:\n",
    "    print(\"Add GPU to runtime\")"
   ]
  },
  {
   "cell_type": "markdown",
   "metadata": {},
   "source": [
    "## Train YOLOv8\n"
   ]
  },
  {
   "cell_type": "code",
   "execution_count": null,
   "metadata": {},
   "outputs": [],
   "source": [
    "from ultralytics import YOLO\n",
    "\n",
    "model = YOLO('yolov8n.pt')\n",
    "\n",
    "# Train\n",
    "results = model.train(\n",
    "    data='/content/yolo_dataset/dataset.yaml',\n",
    "    epochs=50,\n",
    "    imgsz=640,\n",
    "    batch=128,\n",
    "    name='fruit_detector',\n",
    "    project='/content/drive/MyDrive/yolo_runs',\n",
    "    patience=10,\n",
    "    save=True,\n",
    "    plots=True,\n",
    "    device=0,\n",
    "    workers=2,\n",
    "    verbose=True\n",
    ")\n",
    "\n",
    "print(\"\\nTraining completed!\")\n",
    "print(f\"Best model saved to: /content/yolo_runs/fruit_detector/weights/best.pt\")"
   ]
  },
  {
   "cell_type": "markdown",
   "metadata": {},
   "source": [
    "## Test Model on Sample Images"
   ]
  },
  {
   "cell_type": "code",
   "execution_count": null,
   "metadata": {},
   "outputs": [],
   "source": [
    "model = YOLO('/content/yolo_runs/fruit_detector/weights/best.pt')\n",
    "\n",
    "# Run inference on validation images\n",
    "results = model.predict(\n",
    "    source='/content/yolo_dataset/images/val',\n",
    "    save=True,\n",
    "    conf=0.5,\n",
    "    max_det=1,\n",
    "    project='/content/predictions',\n",
    "    name='val_predictions'\n",
    ")\n",
    "\n",
    "print(\"Predictions saved to: /content/predictions/val_predictions/\")"
   ]
  },
  {
   "cell_type": "markdown",
   "metadata": {},
   "source": [
    "## Model Metrics and Confusion Matrix"
   ]
  },
  {
   "cell_type": "code",
   "execution_count": null,
   "metadata": {},
   "outputs": [],
   "source": [
    "from ultralytics import YOLO\n",
    "\n",
    "# Load the best model (from training or from Google Drive)\n",
    "model = YOLO('/content/drive/MyDrive/yolo_runs/fruit_detector5weights/best.pt')\n",
    "\n",
    "# Run validation to generate metrics and plots\n",
    "print(\"Running validation...\")\n",
    "metrics = model.val(\n",
    "    data='/content/yolo_dataset_room/dataset.yaml',\n",
    "    split='val',\n",
    "    save_json=True,\n",
    "    plots=True,\n",
    "    device=0\n",
    ")\n",
    "\n",
    "print(f\"\\n✓ Validation complete!\")\n",
    "print(f\"  mAP50: {metrics.box.map50:.4f}\")\n",
    "print(f\"  mAP50-95: {metrics.box.map:.4f}\")\n",
    "print(f\"  Precision: {metrics.box.mp:.4f}\")\n",
    "print(f\"  Recall: {metrics.box.mr:.4f}\")\n",
    "\n",
    "# View results\n",
    "from IPython.display import Image, display\n",
    "import glob\n",
    "\n",
    "val_run = sorted(glob.glob('/content/runs/detect/val*'))[-1]\n",
    "print(f\"\\nResults saved to: {val_run}\\n\")\n",
    "\n",
    "print(\"Confusion Matrix:\")\n",
    "display(Image(filename=f'{val_run}/confusion_matrix.png', width=800))"
   ]
  }
 ],
 "metadata": {
  "kernelspec": {
   "display_name": "Python 3",
   "language": "python",
   "name": "python3"
  },
  "language_info": {
   "name": "python",
   "version": "3.8.0"
  }
 },
 "nbformat": 4,
 "nbformat_minor": 4
}
